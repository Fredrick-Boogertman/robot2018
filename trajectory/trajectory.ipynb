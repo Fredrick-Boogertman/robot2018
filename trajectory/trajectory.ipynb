{
 "cells": [
  {
   "cell_type": "code",
   "execution_count": 19,
   "metadata": {},
   "outputs": [],
   "source": [
    "from frc3223_azurite.data import read_csv\n",
    "import numpy\n",
    "from matplotlib import pyplot as plt\n",
    "import pathfinder as pf"
   ]
  },
  {
   "cell_type": "code",
   "execution_count": 33,
   "metadata": {},
   "outputs": [],
   "source": [
    "points = [\n",
    "        pf.Waypoint(0, 0, numpy.radians(90)),\n",
    "        pf.Waypoint(-2, 2, 0),\n",
    "        pf.Waypoint(-8, 10, numpy.radians(90)),\n",
    "    ]\n",
    "\n",
    "info, trajectory = pf.generate(points, pf.FIT_HERMITE_CUBIC, pf.SAMPLES_HIGH,\n",
    "                                   dt=0.05, # 50ms\n",
    "                                   max_velocity=1.7,\n",
    "                                   max_acceleration=2.0,\n",
    "                                   max_jerk=60.0)\n",
    "# Wheelbase Width = 0.5m\n",
    "modifier = pf.modifiers.TankModifier(trajectory).modify(0.5)\n",
    "\n",
    "# Do something with the new Trajectories...\n",
    "left = modifier.getLeftTrajectory()\n",
    "right = modifier.getRightTrajectory()\n",
    "\n",
    "pf.serialize_csv(\"left.csv\", left)\n",
    "pf.serialize_csv(\"right.csv\", right)\n",
    "\n",
    "lefty = read_csv(\"left.csv\")\n",
    "righty = read_csv('right.csv')"
   ]
  },
  {
   "cell_type": "code",
   "execution_count": 34,
   "metadata": {},
   "outputs": [
    {
     "data": {
      "image/png": "[encoded data removed]",
      "text/plain": [
       "<Figure size 432x288 with 1 Axes>"
      ]
     },
     "metadata": {},
     "output_type": "display_data"
    }
   ],
   "source": [
    "plt.plot(righty['x'], righty['y'])\n",
    "plt.plot(lefty['x'], lefty['y'])\n",
    "plt.show()"
   ]
  },
  {
   "cell_type": "code",
   "execution_count": null,
   "metadata": {},
   "outputs": [],
   "source": []
  }
 ],
 "metadata": {
  "kernelspec": {
   "display_name": "Python 3",
   "language": "python",
   "name": "python3"
  },
  "language_info": {
   "codemirror_mode": {
    "name": "ipython",
    "version": 3
   },
   "file_extension": ".py",
   "mimetype": "text/x-python",
   "name": "python",
   "nbconvert_exporter": "python",
   "pygments_lexer": "ipython3",
   "version": "3.6.3"
  }
 },
 "nbformat": 4,
 "nbformat_minor": 2
}
